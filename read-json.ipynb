{
 "cells": [
  {
   "cell_type": "code",
   "execution_count": 1,
   "metadata": {},
   "outputs": [],
   "source": [
    "import pandas as pd"
   ]
  },
  {
   "cell_type": "code",
   "execution_count": 2,
   "metadata": {},
   "outputs": [],
   "source": [
    "toots = pd.read_json('outbox.json')"
   ]
  },
  {
   "cell_type": "code",
   "execution_count": 3,
   "metadata": {},
   "outputs": [],
   "source": [
    "toots = toots['orderedItems'].apply(pd.Series)"
   ]
  },
  {
   "cell_type": "code",
   "execution_count": 4,
   "metadata": {},
   "outputs": [],
   "source": [
    "toots = toots['object'].apply(pd.Series)"
   ]
  },
  {
   "cell_type": "code",
   "execution_count": 5,
   "metadata": {},
   "outputs": [
    {
     "data": {
      "text/html": [
       "<div>\n",
       "<style scoped>\n",
       "    .dataframe tbody tr th:only-of-type {\n",
       "        vertical-align: middle;\n",
       "    }\n",
       "\n",
       "    .dataframe tbody tr th {\n",
       "        vertical-align: top;\n",
       "    }\n",
       "\n",
       "    .dataframe thead th {\n",
       "        text-align: right;\n",
       "    }\n",
       "</style>\n",
       "<table border=\"1\" class=\"dataframe\">\n",
       "  <thead>\n",
       "    <tr style=\"text-align: right;\">\n",
       "      <th></th>\n",
       "      <th>published</th>\n",
       "      <th>content</th>\n",
       "      <th>attachment</th>\n",
       "    </tr>\n",
       "  </thead>\n",
       "  <tbody>\n",
       "    <tr>\n",
       "      <th>0</th>\n",
       "      <td>2021-03-28T02:57:55Z</td>\n",
       "      <td>&lt;p&gt;第一次见沙尘暴......这种天气还要出门做核酸检测，回来觉得人都废了，可能心理作用比...</td>\n",
       "      <td>[]</td>\n",
       "    </tr>\n",
       "    <tr>\n",
       "      <th>1</th>\n",
       "      <td>2021-03-28T03:31:04Z</td>\n",
       "      <td>&lt;p&gt;好吧我很作的一点就是非常喜欢看各种属性的人对我西皮的理解，无论是rps还是二次元，看到...</td>\n",
       "      <td>[]</td>\n",
       "    </tr>\n",
       "    <tr>\n",
       "      <th>2</th>\n",
       "      <td>2021-03-28T03:34:11Z</td>\n",
       "      <td>&lt;p&gt;滑板每周真是未看其片先闻吐槽&lt;/p&gt;</td>\n",
       "      <td>[]</td>\n",
       "    </tr>\n",
       "    <tr>\n",
       "      <th>3</th>\n",
       "      <td>2021-03-28T04:13:11Z</td>\n",
       "      <td>&lt;p&gt;有的时候刷看着挺喜欢的同担的微博结果发现对有一方比较冷淡我都会被伤到😢说到底还是我自己...</td>\n",
       "      <td>[]</td>\n",
       "    </tr>\n",
       "    <tr>\n",
       "      <th>4</th>\n",
       "      <td>2021-03-28T05:07:48Z</td>\n",
       "      <td>&lt;p&gt;但是我还是更喜欢攻厨视角下的5v&lt;/p&gt;</td>\n",
       "      <td>[]</td>\n",
       "    </tr>\n",
       "    <tr>\n",
       "      <th>...</th>\n",
       "      <td>...</td>\n",
       "      <td>...</td>\n",
       "      <td>...</td>\n",
       "    </tr>\n",
       "    <tr>\n",
       "      <th>1471</th>\n",
       "      <td>2022-06-10T01:50:36Z</td>\n",
       "      <td>&lt;p&gt;好尴尬开一个就业出国的专题我除了考过雅思啥经验也没有也去说了一堆废话 :ablobne...</td>\n",
       "      <td>[]</td>\n",
       "    </tr>\n",
       "    <tr>\n",
       "      <th>1472</th>\n",
       "      <td>2022-06-10T01:54:25Z</td>\n",
       "      <td>&lt;p&gt;还以为是晚上结果是早上所以我现在蹲着厕所开腾讯会议&lt;/p&gt;</td>\n",
       "      <td>[]</td>\n",
       "    </tr>\n",
       "    <tr>\n",
       "      <th>1473</th>\n",
       "      <td>2022-06-10T02:40:52Z</td>\n",
       "      <td>&lt;p&gt;宿舍楼道真是一个充满泪水的地方，我在那里哭了好几次，在那里安慰了崩溃大哭的朋友好几次，...</td>\n",
       "      <td>[]</td>\n",
       "    </tr>\n",
       "    <tr>\n",
       "      <th>1474</th>\n",
       "      <td>2022-06-10T03:15:11Z</td>\n",
       "      <td>&lt;p&gt;我下周必去成海边！&lt;/p&gt;</td>\n",
       "      <td>[]</td>\n",
       "    </tr>\n",
       "    <tr>\n",
       "      <th>1475</th>\n",
       "      <td>2022-06-10T05:17:48Z</td>\n",
       "      <td>&lt;p&gt;失算了，我光想着下周没啥事可以空出时间来，忘了下周一整周都要下雨……&lt;/p&gt;</td>\n",
       "      <td>[]</td>\n",
       "    </tr>\n",
       "  </tbody>\n",
       "</table>\n",
       "<p>1476 rows × 3 columns</p>\n",
       "</div>"
      ],
      "text/plain": [
       "                 published                                            content  \\\n",
       "0     2021-03-28T02:57:55Z  <p>第一次见沙尘暴......这种天气还要出门做核酸检测，回来觉得人都废了，可能心理作用比...   \n",
       "1     2021-03-28T03:31:04Z  <p>好吧我很作的一点就是非常喜欢看各种属性的人对我西皮的理解，无论是rps还是二次元，看到...   \n",
       "2     2021-03-28T03:34:11Z                              <p>滑板每周真是未看其片先闻吐槽</p>   \n",
       "3     2021-03-28T04:13:11Z  <p>有的时候刷看着挺喜欢的同担的微博结果发现对有一方比较冷淡我都会被伤到😢说到底还是我自己...   \n",
       "4     2021-03-28T05:07:48Z                            <p>但是我还是更喜欢攻厨视角下的5v</p>   \n",
       "...                    ...                                                ...   \n",
       "1471  2022-06-10T01:50:36Z  <p>好尴尬开一个就业出国的专题我除了考过雅思啥经验也没有也去说了一堆废话 :ablobne...   \n",
       "1472  2022-06-10T01:54:25Z                   <p>还以为是晚上结果是早上所以我现在蹲着厕所开腾讯会议</p>   \n",
       "1473  2022-06-10T02:40:52Z  <p>宿舍楼道真是一个充满泪水的地方，我在那里哭了好几次，在那里安慰了崩溃大哭的朋友好几次，...   \n",
       "1474  2022-06-10T03:15:11Z                                   <p>我下周必去成海边！</p>   \n",
       "1475  2022-06-10T05:17:48Z          <p>失算了，我光想着下周没啥事可以空出时间来，忘了下周一整周都要下雨……</p>   \n",
       "\n",
       "     attachment  \n",
       "0            []  \n",
       "1            []  \n",
       "2            []  \n",
       "3            []  \n",
       "4            []  \n",
       "...         ...  \n",
       "1471         []  \n",
       "1472         []  \n",
       "1473         []  \n",
       "1474         []  \n",
       "1475         []  \n",
       "\n",
       "[1476 rows x 3 columns]"
      ]
     },
     "execution_count": 5,
     "metadata": {},
     "output_type": "execute_result"
    }
   ],
   "source": [
    "toots = pd.DataFrame(toots, columns=['published','content','attachment'])\n",
    "toots"
   ]
  },
  {
   "cell_type": "code",
   "execution_count": null,
   "metadata": {},
   "outputs": [],
   "source": []
  }
 ],
 "metadata": {
  "interpreter": {
   "hash": "87c987ef089d9cadde854a53bf0c3535a5835af7a9a3a40b404cb03f7fe14baa"
  },
  "kernelspec": {
   "display_name": "Python 3.9.7 ('base')",
   "language": "python",
   "name": "python3"
  },
  "language_info": {
   "codemirror_mode": {
    "name": "ipython",
    "version": 3
   },
   "file_extension": ".py",
   "mimetype": "text/x-python",
   "name": "python",
   "nbconvert_exporter": "python",
   "pygments_lexer": "ipython3",
   "version": "3.9.7"
  },
  "orig_nbformat": 4
 },
 "nbformat": 4,
 "nbformat_minor": 2
}
